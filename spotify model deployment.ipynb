{
 "cells": [
  {
   "cell_type": "code",
   "execution_count": 1,
   "id": "549db869",
   "metadata": {},
   "outputs": [],
   "source": [
    "# Import necessary libraries\n",
    "import pandas as pd  # For data manipulation and creation of DataFrame from user input\n",
    "import joblib  # For loading the trained KNN model"
   ]
  },
  {
   "cell_type": "code",
   "execution_count": 2,
   "id": "38952759",
   "metadata": {},
   "outputs": [],
   "source": [
    "# Load the trained KNN model\n",
    "model_path = 'model.pkl'  # Path to the saved model\n",
    "best_knn_classifier = joblib.load(model_path)  # Load the trained KNN model"
   ]
  },
  {
   "cell_type": "code",
   "execution_count": 4,
   "id": "fa5f2cbe",
   "metadata": {},
   "outputs": [
    {
     "name": "stdout",
     "output_type": "stream",
     "text": [
      "Enter values for each attribute:\n",
      "Acousticness: 0.682\n",
      "Danceability: 0.527\n",
      "Duration_ms: 217895\n",
      "Energy: 0.376\n",
      "Instrumentalness: 0\n",
      "Key: 5\n",
      "Liveness: 0.142\n",
      "Loudness: -9.974\n",
      "Mode: 1\n",
      "Speechiness: 0.0298\n",
      "Tempo: 151.928\n",
      "Time_signature: 4\n",
      "Valence: 0.24\n",
      "Likelihood of liking the song: 42.86%\n"
     ]
    },
    {
     "name": "stderr",
     "output_type": "stream",
     "text": [
      "C:\\Users\\uzair\\anaconda3\\Lib\\site-packages\\sklearn\\base.py:457: UserWarning: X has feature names, but KNeighborsClassifier was fitted without feature names\n",
      "  warnings.warn(\n"
     ]
    }
   ],
   "source": [
    "# Function to get user input for song attributes\n",
    "def get_input_values():\n",
    "    \"\"\"\n",
    "    Prompts the user to input values for each song attribute.\n",
    "    \n",
    "    Returns:\n",
    "    - input_values: dict, a dictionary containing user-inputted values for each attribute\n",
    "    \"\"\"\n",
    "    print(\"Enter values for each attribute:\")\n",
    "    \n",
    "    attributes = ['acousticness', 'danceability', 'duration_ms', 'energy', 'instrumentalness', \n",
    "                  'key', 'liveness', 'loudness', 'mode', 'speechiness', 'tempo', \n",
    "                  'time_signature', 'valence']\n",
    "    input_values = {}\n",
    "    for attribute in attributes:\n",
    "        value = float(input(f\"{attribute.capitalize()}: \"))  # Prompt the user for input and convert to float\n",
    "        input_values[attribute] = value\n",
    "    return input_values\n",
    "\n",
    "# Function to predict the likelihood of liking the song\n",
    "def predict_likelihood(input_values, model):\n",
    "    \"\"\"\n",
    "    Predicts the likelihood of liking a song based on user-inputted attribute values.\n",
    "    \n",
    "    Parameters:\n",
    "    - input_values: dict, a dictionary containing values for each attribute\n",
    "    - model: trained model, the trained KNN classifier\n",
    "    \n",
    "    Returns:\n",
    "    - likelihood: float, the probability of liking the song (class 1)\n",
    "    \"\"\"\n",
    "    input_df = pd.DataFrame([input_values])  # Create a DataFrame from the input values\n",
    "    likelihood = model.predict_proba(input_df)[:, 1]  # Get the probability of class 1 (liking the song)\n",
    "    return likelihood[0]\n",
    "\n",
    "# Main function to run the prediction\n",
    "def main():\n",
    "    \"\"\"\n",
    "    Main function to run the prediction process. It gets user input, predicts the likelihood,\n",
    "    and prints the result.\n",
    "    \"\"\"\n",
    "    input_values = get_input_values()  # Get user input for song attributes\n",
    "    likelihood = predict_likelihood(input_values, best_knn_classifier)  # Predict the likelihood\n",
    "    \n",
    "    # Print the likelihood of liking the song\n",
    "    print(f\"Likelihood of liking the song: {likelihood * 100:.2f}%\")\n",
    "\n",
    "# Run the main function if the script is executed\n",
    "if __name__ == \"__main__\":\n",
    "    main()\n"
   ]
  },
  {
   "cell_type": "code",
   "execution_count": null,
   "id": "5605665f",
   "metadata": {},
   "outputs": [],
   "source": []
  }
 ],
 "metadata": {
  "kernelspec": {
   "display_name": "Python 3 (ipykernel)",
   "language": "python",
   "name": "python3"
  },
  "language_info": {
   "codemirror_mode": {
    "name": "ipython",
    "version": 3
   },
   "file_extension": ".py",
   "mimetype": "text/x-python",
   "name": "python",
   "nbconvert_exporter": "python",
   "pygments_lexer": "ipython3",
   "version": "3.11.5"
  }
 },
 "nbformat": 4,
 "nbformat_minor": 5
}
